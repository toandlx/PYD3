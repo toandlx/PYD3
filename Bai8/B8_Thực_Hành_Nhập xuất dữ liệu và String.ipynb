{
 "cells": [
  {
   "cell_type": "code",
   "execution_count": 2,
   "id": "c4500382",
   "metadata": {},
   "outputs": [
    {
     "name": "stdout",
     "output_type": "stream",
     "text": [
      "Tôi thích đi du lịch\n",
      "Tôi\n",
      "Titíh\n",
      "T í   c\n",
      "Titíhđ ulc\n",
      "hcịl ud iđ hcíht iôT\n"
     ]
    }
   ],
   "source": [
    "# cắt string theo index\n",
    "# cú pháp : <tên biến > [start:end:step]\n",
    "text = 'Tôi thích đi du lịch'\n",
    "print (text)\n",
    "print(text[0:3])\n",
    "print(text[0:10:2])\n",
    "print(text[0:len(text):3])\n",
    "print(text[: : 2]) \n",
    "print(text[: : -1])"
   ]
  },
  {
   "cell_type": "code",
   "execution_count": 23,
   "id": "493419fb",
   "metadata": {},
   "outputs": [],
   "source": [
    "# ghep chuỗi và lặp chuỗi \n"
   ]
  },
  {
   "cell_type": "code",
   "execution_count": 2,
   "id": "ce8e459a",
   "metadata": {},
   "outputs": [],
   "source": [
    "# count\n"
   ]
  },
  {
   "cell_type": "markdown",
   "id": "b6a2b340",
   "metadata": {},
   "source": [
    "#### thực hành xử lý và in ra các thông tin tương ứng trong chuỗi "
   ]
  },
  {
   "cell_type": "code",
   "execution_count": 3,
   "id": "b1467f87",
   "metadata": {},
   "outputs": [
    {
     "name": "stdout",
     "output_type": "stream",
     "text": [
      "Lớp học\n",
      "python\n"
     ]
    }
   ],
   "source": [
    "content = \"Lớp học python căn bản buổi 8\"\n",
    "# in ra 2 chữ :lớp học\n",
    "print (content[0:7])\n",
    "# in ra 2 chữ: python\n",
    "print (content[8:14])\n",
    "# in ra 2 chữ: căn bản\n",
    "\n",
    "# in ra chữ : buổi 8"
   ]
  },
  {
   "cell_type": "code",
   "execution_count": 15,
   "id": "f6a67265",
   "metadata": {},
   "outputs": [],
   "source": [
    "print = (content[0:7])"
   ]
  },
  {
   "cell_type": "markdown",
   "id": "ac31fbb3",
   "metadata": {},
   "source": [
    "# Bài Tập thực hành"
   ]
  },
  {
   "cell_type": "markdown",
   "id": "4ec0a0d3",
   "metadata": {},
   "source": [
    "## Bài Tập 1"
   ]
  },
  {
   "cell_type": "markdown",
   "id": "ca31248e",
   "metadata": {},
   "source": [
    "Giả sử một chiếc ô tô có vận tốc ban đầu v0, gia tốc a và thời gian t.</p>\n",
    "Viết chương trình python để tìm vận tốc cuối cùng của ô tô và in kết quả ra màn hình.</p>\n",
    "Sử dụng lệnh ép kiểu input() để nhập các giá trị tương ứng cho v0, a và t.</p>\n",
    "Dùng công thức v = v0 + a.t để tính vận tốc cuối cùng"
   ]
  },
  {
   "cell_type": "code",
   "execution_count": 4,
   "id": "aa8f4dde",
   "metadata": {},
   "outputs": [
    {
     "name": "stdout",
     "output_type": "stream",
     "text": [
      "nhập vận tốc ban đầu :10\n",
      "Nhập gia tốc :2\n",
      "Nhập thời gian :21\n",
      "Vận tốc cuối cùng của bạn là 52\n"
     ]
    }
   ],
   "source": [
    "vtbd = int(input(\"nhập vận tốc ban đầu :\"))\n",
    "gt = int(input(\"Nhập gia tốc :\"))\n",
    "thoigian = int(input(\"Nhập thời gian :\"))\n",
    "vantoc = (vtbd + (gt * thoigian))\n",
    "print (f'Vận tốc cuối cùng của bạn là {vantoc}')"
   ]
  },
  {
   "cell_type": "markdown",
   "id": "8b02bcd4",
   "metadata": {},
   "source": [
    "## Bài tập 2"
   ]
  },
  {
   "cell_type": "markdown",
   "id": "ab6b37b6",
   "metadata": {},
   "source": [
    "Viết chương trình để nhập điểm kiểm tra, điểm thi giữa kỳ, điểm thi cuối kỳ, sau đó tính tổng điểm và in kết quả ra màn hình"
   ]
  },
  {
   "cell_type": "code",
   "execution_count": 7,
   "id": "095535a9",
   "metadata": {},
   "outputs": [
    {
     "name": "stdout",
     "output_type": "stream",
     "text": [
      "Nhập Điểm Kiểm Tra :8\n",
      "Nhập Điểm Giữa Kỳ :9\n",
      "Nhập Điểm Cuối Kỳ:8\n",
      "Tổng điểm của bạn là : 25\n"
     ]
    }
   ],
   "source": [
    "diemkt = int(input(\"Nhập Điểm Kiểm Tra :\"))\n",
    "diemgk = int(input(\"Nhập Điểm Giữa Kỳ :\"))\n",
    "diemck = int(input(\"Nhập Điểm Cuối Kỳ:\"))\n",
    "tongdiem = (diemkt + diemgk + diemck)\n",
    "print (f'Tổng điểm của bạn là : {tongdiem}')"
   ]
  },
  {
   "cell_type": "markdown",
   "id": "076b8074",
   "metadata": {},
   "source": [
    "## Bài Tập 3"
   ]
  },
  {
   "cell_type": "markdown",
   "id": "c0009d80",
   "metadata": {},
   "source": [
    "Viết chương chình nhập vào vận tốc và thời gian của xe chạy của xe taxi </p>\n",
    "yêu cầu 1 :tính quãng đường xe chạy được bao nhiêu km.</p>\n",
    "yêu cầu 2 : đổi km về m </p>\n",
    "yêu cầu 3 : cho biết cứ mỗi 1 km thì được tính với giá cước là 23000 đồng ,hãy tính tổng số tiền khách phải trả."
   ]
  },
  {
   "cell_type": "code",
   "execution_count": 8,
   "id": "cf3cbe0c",
   "metadata": {},
   "outputs": [
    {
     "name": "stdout",
     "output_type": "stream",
     "text": [
      "Nhập vận tốc của bạn :15\n",
      "Nhập thời gian của bạn:1.5\n",
      "Quãng Đường Bạn Đi Được Là : 22.5 KM\n",
      "Quãng Đường Bạn Đi Được Là : 22500.0 M\n",
      "Tổng số tiền là : 517500.0\n"
     ]
    }
   ],
   "source": [
    "vt = int(input(\"Nhập vận tốc của bạn :\"))\n",
    "tg = float(input(\"Nhập thời gian của bạn:\"))\n",
    "qd = (vt * tg)\n",
    "qd_m = (qd * 1000)\n",
    "print(f'Quãng Đường Bạn Đi Được Là : {qd} KM')\n",
    "print(f'Quãng Đường Bạn Đi Được Là : {qd_m} M')\n",
    "tongtien = (qd * 23000)\n",
    "print(f'Tổng số tiền là : {tongtien}')"
   ]
  },
  {
   "cell_type": "markdown",
   "id": "14e3f09c",
   "metadata": {},
   "source": [
    "## Bài Tập 4"
   ]
  },
  {
   "cell_type": "markdown",
   "id": "07a5d8a0",
   "metadata": {},
   "source": [
    "Nhập vào một string và một số x ,hãy xóa x ký tự đầu tiên của string </p>\n",
    "ví dụ : string = \"hello python\" ,x = 3 </p>\n",
    "    output: \"lo python\""
   ]
  },
  {
   "cell_type": "code",
   "execution_count": 12,
   "id": "b1465df0",
   "metadata": {},
   "outputs": [
    {
     "name": "stdout",
     "output_type": "stream",
     "text": [
      "Nhập vào nội dung của bạnHello world\n",
      "nhập vào số ký tự muốn xóa3\n",
      "lo world\n"
     ]
    }
   ],
   "source": [
    "text1 = str(input('Nhập vào nội dung của bạn'))\n",
    "x = int(input('nhập vào số ký tự muốn xóa'))\n",
    "text1 = text1[x:]\n",
    "print (text1)"
   ]
  },
  {
   "cell_type": "markdown",
   "id": "1cd79c05",
   "metadata": {},
   "source": [
    "## Bài Tập 5"
   ]
  },
  {
   "cell_type": "markdown",
   "id": "d0956054",
   "metadata": {},
   "source": [
    "Nhập vào một string ,hãy kiểm tra đây có phải là một string đối xứng không</p>\n",
    "Lưu ý : chuối đối xứng là chuối có thứ tự giống nhau khi đọc từ trái sáng phải hoặc ngược lại</p>\n",
    "vd : abba , abcddcba"
   ]
  },
  {
   "cell_type": "code",
   "execution_count": 18,
   "id": "43d5c2eb",
   "metadata": {},
   "outputs": [
    {
     "name": "stdout",
     "output_type": "stream",
     "text": [
      "Nhập vào chuỗi nguồn của bạn: oahc nix\n",
      "Nhập vào chuỗi ngược của bạn: xin chao\n",
      "True\n"
     ]
    }
   ],
   "source": [
    "text = str(input(\"Nhập vào chuỗi nguồn của bạn: \"))\n",
    "text1 = str(input(\"Nhập vào chuỗi ngược của bạn: \"))\n",
    "textnguoc = text[::-1]\n",
    "\n",
    "print (text1 == textnguoc)"
   ]
  },
  {
   "cell_type": "markdown",
   "id": "2d88272f",
   "metadata": {},
   "source": [
    "## Bài Tập 6 "
   ]
  },
  {
   "cell_type": "markdown",
   "id": "ba2c57ba",
   "metadata": {},
   "source": [
    "Nhập vào một chuỗi string gồm 5 chữ và thực hiện các thao tác :</p>\n",
    "    in ra đổi 2 chữ đầu tiên</p>\n",
    "    in ra chuỗi đó đều in thường</p>\n",
    "    in ra chuỗi đó đều in hoa</p>\n",
    "    in cắt chuỗi đó thành nhiều chuỗi nhỏ</p>\n",
    "    in cắt đó thành những từ có nghĩa</p>\n",
    "    "
   ]
  },
  {
   "cell_type": "code",
   "execution_count": 15,
   "id": "a86cc73b",
   "metadata": {},
   "outputs": [
    {
     "name": "stdout",
     "output_type": "stream",
     "text": [
      "Nhập vào chuỗi của bạn :Hom nay la t2\n",
      "hom nay la t2\n",
      "HOM NAY LA T2\n",
      "['Hom', 'nay', 'la', 't2']\n"
     ]
    }
   ],
   "source": [
    "text = str(input(\"Nhập vào chuỗi của bạn :\"))\n",
    "print(str.lower(text))\n",
    "print(str.upper(text))\n",
    "print(text.split())"
   ]
  },
  {
   "cell_type": "markdown",
   "id": "a562eb4b",
   "metadata": {},
   "source": [
    "## Bài Tập 7"
   ]
  },
  {
   "cell_type": "markdown",
   "id": "fe077b04",
   "metadata": {},
   "source": [
    "Nhập vào 2 chuỗi , chuỗi 1 là Họ và tên đệm, chuỗi 2 là tên của mình </p>\n",
    "Yêu cầu : nối 2 chuỗi lại hoàn chỉnh </p>\n",
    "    vd : Họ tên đêm : Nguyễn Văn </p>\n",
    "        Tên : A</p>\n",
    "     output: Nguyễn Văn A"
   ]
  },
  {
   "cell_type": "code",
   "execution_count": 16,
   "id": "c7787a7c",
   "metadata": {},
   "outputs": [
    {
     "name": "stdout",
     "output_type": "stream",
     "text": [
      "Nhập vào Họ và tên đệm của bạn :Nguyễn Xuân\n",
      "Nhập vào tên của bạn: Toàn\n",
      "Nguyễn Xuân Toàn\n"
     ]
    }
   ],
   "source": [
    "hocuaban = str(input(\"Nhập vào Họ và tên đệm của bạn :\"))\n",
    "tencuaban = str(input(\"Nhập vào tên của bạn: \"))\n",
    "print (hocuaban + \" \" + tencuaban)"
   ]
  },
  {
   "cell_type": "code",
   "execution_count": null,
   "id": "891ddc9f",
   "metadata": {},
   "outputs": [],
   "source": []
  }
 ],
 "metadata": {
  "kernelspec": {
   "display_name": "Python 3 (ipykernel)",
   "language": "python",
   "name": "python3"
  },
  "language_info": {
   "codemirror_mode": {
    "name": "ipython",
    "version": 3
   },
   "file_extension": ".py",
   "mimetype": "text/x-python",
   "name": "python",
   "nbconvert_exporter": "python",
   "pygments_lexer": "ipython3",
   "version": "3.9.13"
  }
 },
 "nbformat": 4,
 "nbformat_minor": 5
}
