{
 "cells": [
  {
   "cell_type": "markdown",
   "id": "0d03fcaa",
   "metadata": {},
   "source": [
    "## Bài 4 Thư viện Turtle"
   ]
  },
  {
   "cell_type": "markdown",
   "id": "84b6253e",
   "metadata": {},
   "source": [
    "Thông Báo lịch nghỉ tết dương lịch và tết âm lịch </p>\n",
    "Tết dương : nghỉ từ ngày 01/01/2023 đến hết ngày 02/01/2023</p>\n",
    "Tết âm : nghỉ từ ngày 16/01/2023 đến hết ngày 29/01/2023</p>"
   ]
  },
  {
   "cell_type": "markdown",
   "id": "5a13b5e9",
   "metadata": {},
   "source": [
    "## Sửa bài tập về nhà Thuật toán\n",
    "\n",
    "### Bài 1 : hãy biểu diễn thuật toán phương trình bậc 2 ax*x + bx +c =0 \n"
   ]
  },
  {
   "cell_type": "markdown",
   "id": "48b01116",
   "metadata": {},
   "source": [
    "- Phân tích đề :\n",
    "Phường trình sẽ có những trường hợp nào xảy ra ? cần có những gì ? kết quả ra gì? \n",
    "\n",
    "Phương trình có 4 trường hợp có thể xảy ra : 1. nếu a=0 --> pt bậc nhất ,\n",
    "xét Delta(b*b-4ac): 2. Delta <0 pt sẽ vô nghiệm, 3. Delta = 0 pt có 2 nghiệm kép x1=x2=-b/2a, 4. Delta > 0 pt có 2 nghiệm phân biệt x1,x2= (-b '+,-' sqrt(Delta))/2a \n",
    "\n",
    "Cần khai báo đầu vào gồm : a,b,c\n",
    "\n",
    "kết quả : in ra màn hình theo từng trường hợp "
   ]
  },
  {
   "cell_type": "markdown",
   "id": "861d4749",
   "metadata": {},
   "source": [
    "### Bài 2 : hãy biểu diễn thuật toán của bài toán tính tổng từ 0->20"
   ]
  },
  {
   "cell_type": "markdown",
   "id": "6d18582c",
   "metadata": {},
   "source": [
    "* phân tích đề : \n",
    "    phép toán này là loại phép toán nào ? cần những gì ? kết quả là gì ?\n",
    "    \n",
    "    Phép toán đề yêu cầu xử lý là phép toán cộng dồn lũy tiến \n",
    "    \n",
    "    cần đầu vào 2 biến 1 biến để chạy theo vòng lặp và 1 biến để lưu lại tổng \n",
    "    \n",
    "    kết quả : in ra màn hình tổng 0->20"
   ]
  },
  {
   "cell_type": "markdown",
   "id": "af4844a3",
   "metadata": {},
   "source": [
    "## Hướng dẫn sử dụng github với ứng dụng Gitkraken"
   ]
  },
  {
   "cell_type": "markdown",
   "id": "b814567a",
   "metadata": {},
   "source": [
    "Cài đặt : https://www.gitkraken.com/download \n",
    "Các bạn vào link tải về máy cài đặt. \n"
   ]
  },
  {
   "cell_type": "markdown",
   "id": "b44d3e67",
   "metadata": {},
   "source": [
    "Kiểm tra bài cũ "
   ]
  },
  {
   "cell_type": "markdown",
   "id": "c40c721e",
   "metadata": {},
   "source": [
    "## MỤC TIÊU BÀI HỌC HÔM NAY"
   ]
  },
  {
   "cell_type": "markdown",
   "id": "159b6081",
   "metadata": {},
   "source": [
    "1. sử dụng được lệnh PIP </p>\n",
    "2. Thư viện turlte </p>\n",
    "3. Điều kiển chuyển động của turtle </p>\n",
    "4. Điều kiến nét bút trong turtle"
   ]
  },
  {
   "cell_type": "markdown",
   "id": "cfe3581f",
   "metadata": {},
   "source": [
    "## Sử dụng lệnh pip\n",
    "* PIP là một trình quản lý gói cho Python, cho phép cài đặt và quản lý các thư viện và dependency mà không được phân </p>\n",
    "    phối như một phần của thư viện chuẩn của Python.\n",
    "* PIP có 2 phiên bản pip (python2) và pip3 (python3)</p>\n",
    "* Từ phiên bản Python 3.4 trở lên, PIP đã được cài đặt mặc định"
   ]
  },
  {
   "cell_type": "markdown",
   "id": "eae2a74f",
   "metadata": {},
   "source": [
    "pip command [options]</p>\n",
    "kiểm tra lệnh pip chúng ta cài đặt trên máy </p>\n"
   ]
  },
  {
   "cell_type": "code",
   "execution_count": 1,
   "id": "dca8d383",
   "metadata": {},
   "outputs": [
    {
     "name": "stdout",
     "output_type": "stream",
     "text": [
      "pip 22.2.2 from C:\\Users\\vvmin\\anaconda3\\lib\\site-packages\\pip (python 3.9)\n",
      "\n"
     ]
    }
   ],
   "source": [
    "!pip --version"
   ]
  },
  {
   "cell_type": "markdown",
   "id": "8e5c027f",
   "metadata": {},
   "source": [
    "# Thư viện Turtle\n",
    "Turtle graphic là một chương trình con có sẵn trong python.</p>\n",
    "Turtle được sử dụng để vẽ ra những hình ảnh có dạng đồ họa khác nhau</p>\n",
    "#### cài đặt thư viện turtle"
   ]
  },
  {
   "cell_type": "code",
   "execution_count": 7,
   "id": "20c33282",
   "metadata": {},
   "outputs": [
    {
     "name": "stdout",
     "output_type": "stream",
     "text": [
      "Requirement already satisfied: PythonTurtle in c:\\users\\vvmin\\anaconda3\\lib\\site-packages (0.3.2)\n",
      "Note: you may need to restart the kernel to use updated packages.\n"
     ]
    }
   ],
   "source": [
    "pip install PythonTurtle\n"
   ]
  },
  {
   "cell_type": "code",
   "execution_count": 10,
   "id": "b7fb7eb9",
   "metadata": {},
   "outputs": [
    {
     "name": "stdout",
     "output_type": "stream",
     "text": [
      "Collecting turtle\n",
      "  Using cached turtle-0.0.2.tar.gz (11 kB)\n",
      "  Preparing metadata (setup.py): started\n",
      "  Preparing metadata (setup.py): finished with status 'error'\n",
      "Note: you may need to restart the kernel to use updated packages.\n"
     ]
    },
    {
     "name": "stderr",
     "output_type": "stream",
     "text": [
      "  error: subprocess-exited-with-error\n",
      "  \n",
      "  python setup.py egg_info did not run successfully.\n",
      "  exit code: 1\n",
      "  \n",
      "  [7 lines of output]\n",
      "  Traceback (most recent call last):\n",
      "    File \"<string>\", line 2, in <module>\n",
      "    File \"<pip-setuptools-caller>\", line 34, in <module>\n",
      "    File \"C:\\Users\\vvmin\\AppData\\Local\\Temp\\pip-install-jalouvgp\\turtle_e7be60b21f7a46669da808cbed267754\\setup.py\", line 40\n",
      "      except ValueError, ve:\n",
      "                       ^\n",
      "  SyntaxError: invalid syntax\n",
      "  [end of output]\n",
      "  \n",
      "  note: This error originates from a subprocess, and is likely not a problem with pip.\n",
      "error: metadata-generation-failed\n",
      "\n",
      "Encountered error while generating package metadata.\n",
      "\n",
      "See above for output.\n",
      "\n",
      "note: This is an issue with the package mentioned above, not pip.\n",
      "hint: See above for details.\n"
     ]
    }
   ],
   "source": [
    "pip install turtle"
   ]
  },
  {
   "cell_type": "code",
   "execution_count": 12,
   "id": "4a29dd26",
   "metadata": {},
   "outputs": [],
   "source": [
    "# Bước 1: import module turtle\n",
    "import turtle"
   ]
  },
  {
   "cell_type": "code",
   "execution_count": 15,
   "id": "439e75f7",
   "metadata": {},
   "outputs": [],
   "source": [
    "# Bước 2 Tạo đối tượng turtle\n"
   ]
  },
  {
   "cell_type": "code",
   "execution_count": 14,
   "id": "23bad077",
   "metadata": {},
   "outputs": [],
   "source": [
    "# Bước 3: Vẽ bằng cách sử dụng các phương thức của turtle\n"
   ]
  },
  {
   "cell_type": "code",
   "execution_count": 16,
   "id": "ec078466",
   "metadata": {},
   "outputs": [],
   "source": [
    "# Bước 4: Hoàn thành vẽ\n"
   ]
  },
  {
   "cell_type": "markdown",
   "id": "9b0cb672",
   "metadata": {},
   "source": [
    "## Các lệnh điều khiển chuyển động"
   ]
  },
  {
   "cell_type": "code",
   "execution_count": 18,
   "id": "3eb579ff",
   "metadata": {},
   "outputs": [],
   "source": [
    "#forward()\n",
    "#backward()\n",
    "#left()\n",
    "#right()"
   ]
  },
  {
   "cell_type": "markdown",
   "id": "d27b47e4",
   "metadata": {},
   "source": [
    "#### Thực hành vẽ hình vuông"
   ]
  },
  {
   "cell_type": "code",
   "execution_count": null,
   "id": "b0f9bbb5",
   "metadata": {},
   "outputs": [],
   "source": []
  },
  {
   "cell_type": "markdown",
   "id": "efa34614",
   "metadata": {},
   "source": [
    "#### Thực hành vẽ hình tam giác đều"
   ]
  },
  {
   "cell_type": "code",
   "execution_count": null,
   "id": "30b967b6",
   "metadata": {},
   "outputs": [],
   "source": []
  },
  {
   "cell_type": "markdown",
   "id": "cb373967",
   "metadata": {},
   "source": [
    "## Các lệnh điều khiển nét bút"
   ]
  },
  {
   "cell_type": "markdown",
   "id": "e516b3f0",
   "metadata": {},
   "source": [
    "Tăng giảm độ dày của bút"
   ]
  },
  {
   "cell_type": "code",
   "execution_count": null,
   "id": "edb0c682",
   "metadata": {},
   "outputs": [],
   "source": []
  },
  {
   "cell_type": "markdown",
   "id": "9f32a6b6",
   "metadata": {},
   "source": [
    "Nhấc bút lên dừng vẽ"
   ]
  },
  {
   "cell_type": "code",
   "execution_count": null,
   "id": "d66f8443",
   "metadata": {},
   "outputs": [],
   "source": []
  },
  {
   "cell_type": "markdown",
   "id": "6054b1a0",
   "metadata": {},
   "source": [
    "Hạ bút xuống để vẽ"
   ]
  },
  {
   "cell_type": "code",
   "execution_count": null,
   "id": "f82212a8",
   "metadata": {},
   "outputs": [],
   "source": []
  },
  {
   "cell_type": "markdown",
   "id": "2764243a",
   "metadata": {},
   "source": [
    "di chuyển tới tòa độ"
   ]
  },
  {
   "cell_type": "code",
   "execution_count": null,
   "id": "8846bc9d",
   "metadata": {},
   "outputs": [],
   "source": []
  },
  {
   "cell_type": "markdown",
   "id": "820d7b2e",
   "metadata": {},
   "source": [
    "## Thay đổi màu rùa và màu bút"
   ]
  },
  {
   "cell_type": "markdown",
   "id": "b7b04755",
   "metadata": {},
   "source": [
    "Thay đổi màu của rùa\n"
   ]
  },
  {
   "cell_type": "code",
   "execution_count": null,
   "id": "1b3f5a26",
   "metadata": {},
   "outputs": [],
   "source": []
  },
  {
   "cell_type": "markdown",
   "id": "58584c4c",
   "metadata": {},
   "source": [
    "Thay đổi màu của bút"
   ]
  },
  {
   "cell_type": "code",
   "execution_count": null,
   "id": "713b2954",
   "metadata": {},
   "outputs": [],
   "source": []
  },
  {
   "cell_type": "markdown",
   "id": "661c8b88",
   "metadata": {},
   "source": [
    "Tốc độ bút"
   ]
  },
  {
   "cell_type": "code",
   "execution_count": null,
   "id": "be278f5a",
   "metadata": {},
   "outputs": [],
   "source": []
  },
  {
   "cell_type": "code",
   "execution_count": null,
   "id": "fe749b8f",
   "metadata": {},
   "outputs": [],
   "source": [
    "#bài mẫu vẽ hình \n",
    "import turtle\n",
    "t = turtle.Pen()\n",
    "turtle.bgcolor(\"black\")\n",
    "colors = [\"red\", \"yellow\", \"blue\", \"green\"]\n",
    "for x in range(100):\n",
    "    t.speed(100)\n",
    "    t.pencolor(colors[x%4])\n",
    "    t.circle(x)\n",
    "    t.left(91)"
   ]
  }
 ],
 "metadata": {
  "kernelspec": {
   "display_name": "Python 3 (ipykernel)",
   "language": "python",
   "name": "python3"
  },
  "language_info": {
   "codemirror_mode": {
    "name": "ipython",
    "version": 3
   },
   "file_extension": ".py",
   "mimetype": "text/x-python",
   "name": "python",
   "nbconvert_exporter": "python",
   "pygments_lexer": "ipython3",
   "version": "3.9.13"
  }
 },
 "nbformat": 4,
 "nbformat_minor": 5
}
