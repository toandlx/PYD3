{
 "cells": [
  {
   "cell_type": "code",
   "execution_count": 5,
   "id": "8b43b733",
   "metadata": {},
   "outputs": [
    {
     "ename": "SyntaxError",
     "evalue": "invalid syntax (1743304114.py, line 11)",
     "output_type": "error",
     "traceback": [
      "\u001b[1;36m  File \u001b[1;32m\"C:\\Users\\admin\\AppData\\Local\\Temp\\ipykernel_11748\\1743304114.py\"\u001b[1;36m, line \u001b[1;32m11\u001b[0m\n\u001b[1;33m    print(f'Nghiệm x1 là '{x1})\u001b[0m\n\u001b[1;37m                          ^\u001b[0m\n\u001b[1;31mSyntaxError\u001b[0m\u001b[1;31m:\u001b[0m invalid syntax\n"
     ]
    }
   ],
   "source": [
    "import math\n",
    "a = float(input(\"Nhập số a\"))\n",
    "b = float(input(\"Nhập số b\"))\n",
    "c = float(input(\"Nhập số c\"))\n",
    "delta = b**2 - 4*a*c\n",
    "\n",
    "if delta < 0:\n",
    "    print(\"Phương Trình Vô Nghiệm\")\n",
    "elif delta == 0:\n",
    "    x1 = x2 = -b / (2*a)\n",
    "    print(f'Nghiệm x1 là '{x1})\n",
    "    print(f'Nghiệm x2 là '{x2})\n",
    "else:\n",
    "    x1 = (-b - math.sqrt(delta)) / (2*a)\n",
    "    x2 = (-b + math.sqrt(delta)) / (2*a)\n",
    "    print(f'Nghiệm x1 là {x1}')\n",
    "    print(f'Nghiệm x2 là '{x2})"
   ]
  },
  {
   "cell_type": "code",
   "execution_count": null,
   "id": "c39ffc7a",
   "metadata": {},
   "outputs": [],
   "source": []
  }
 ],
 "metadata": {
  "kernelspec": {
   "display_name": "Python 3 (ipykernel)",
   "language": "python",
   "name": "python3"
  },
  "language_info": {
   "codemirror_mode": {
    "name": "ipython",
    "version": 3
   },
   "file_extension": ".py",
   "mimetype": "text/x-python",
   "name": "python",
   "nbconvert_exporter": "python",
   "pygments_lexer": "ipython3",
   "version": "3.9.13"
  }
 },
 "nbformat": 4,
 "nbformat_minor": 5
}
